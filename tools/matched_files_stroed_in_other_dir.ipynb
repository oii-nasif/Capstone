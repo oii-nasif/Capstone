{
 "metadata": {
  "language_info": {
   "codemirror_mode": {
    "name": "ipython",
    "version": 3
   },
   "file_extension": ".py",
   "mimetype": "text/x-python",
   "name": "python",
   "nbconvert_exporter": "python",
   "pygments_lexer": "ipython3",
   "version": "3.8.5"
  },
  "orig_nbformat": 2,
  "kernelspec": {
   "name": "python3",
   "display_name": "Python 3",
   "language": "python"
  }
 },
 "nbformat": 4,
 "nbformat_minor": 2,
 "cells": [
  {
   "cell_type": "code",
   "execution_count": 5,
   "metadata": {},
   "outputs": [
    {
     "output_type": "stream",
     "name": "stdout",
     "text": [
      "/media/tamim/Study/Datasets/DeepFish/Classification/7117/valid/Annot\n"
     ]
    }
   ],
   "source": [
    "import os\n",
    "  \n",
    "os.chdir('/media/tamim/Study/Datasets/DeepFish/Classification/7117/valid/Annot')\n",
    "print(os.getcwd())"
   ]
  },
  {
   "cell_type": "code",
   "execution_count": 6,
   "metadata": {},
   "outputs": [],
   "source": [
    "txt_list=[]\n",
    "for f in os.listdir():\n",
    "    f_name, f_ext = os.path.splitext(f)\n",
    "    txt_list.append(f_name)"
   ]
  },
  {
   "cell_type": "code",
   "execution_count": 7,
   "metadata": {},
   "outputs": [
    {
     "output_type": "stream",
     "name": "stdout",
     "text": [
      "['classes', '7117_Caranx_sexfasciatus_juvenile_f000000']\n"
     ]
    }
   ],
   "source": [
    "print(txt_list)"
   ]
  },
  {
   "cell_type": "code",
   "execution_count": 8,
   "metadata": {},
   "outputs": [
    {
     "output_type": "stream",
     "name": "stdout",
     "text": [
      "/media/tamim/Study/Datasets/DeepFish/Classification/7117/valid\n"
     ]
    }
   ],
   "source": [
    "os.chdir('/media/tamim/Study/Datasets/DeepFish/Classification/7117/valid')\n",
    "print(os.getcwd())"
   ]
  },
  {
   "cell_type": "code",
   "execution_count": 17,
   "metadata": {},
   "outputs": [
    {
     "output_type": "stream",
     "name": "stdout",
     "text": [
      "classes\n7117_Caranx_sexfasciatus_juvenile_f000000\n"
     ]
    }
   ],
   "source": [
    "import shutil\n",
    "\n",
    "path='/media/tamim/Study/Datasets/DeepFish/Classification/7117/valid/Annot'\n",
    "for files in txt_list:\n",
    "    print(files)\n",
    "    for f in os.listdir():\n",
    "        f_name,f_ext=os.path.splitext(f)\n",
    "        if files == f_name:\n",
    "            shutil.copy(f, path)"
   ]
  },
  {
   "cell_type": "code",
   "execution_count": null,
   "metadata": {},
   "outputs": [],
   "source": []
  }
 ]
}